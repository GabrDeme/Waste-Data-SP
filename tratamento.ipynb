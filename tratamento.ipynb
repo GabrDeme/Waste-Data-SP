{
 "cells": [
  {
   "cell_type": "code",
   "execution_count": 155,
   "metadata": {},
   "outputs": [],
   "source": [
    "import pandas as pd\n",
    "\n",
    "df = pd.read_excel('limpaBrasil.xlsx')"
   ]
  },
  {
   "cell_type": "markdown",
   "metadata": {},
   "source": [
    "#### Padronizando valor de CEP sem '-'"
   ]
  },
  {
   "cell_type": "code",
   "execution_count": 156,
   "metadata": {},
   "outputs": [],
   "source": [
    "# df['CEP'] = df['CEP'].str.replace(r'(\\d{5})(\\d{3})', r'\\1-\\2', regex=True) Esse é pra padronizar COM traçinho\n",
    "df['Cep'] = df['Cep'].str.replace(r'\\D', '', regex=True)"
   ]
  },
  {
   "cell_type": "markdown",
   "metadata": {},
   "source": [
    "#### Apagando valores nulos e diferentes de 8 caracteres da Coluna CEP"
   ]
  },
  {
   "cell_type": "code",
   "execution_count": 157,
   "metadata": {},
   "outputs": [],
   "source": [
    "df = df.dropna(subset=['Cep'])"
   ]
  },
  {
   "cell_type": "code",
   "execution_count": 158,
   "metadata": {},
   "outputs": [],
   "source": [
    "df = df[df['Cep'].str.len() == 8]"
   ]
  },
  {
   "cell_type": "markdown",
   "metadata": {},
   "source": [
    "#### Padronizando como número"
   ]
  },
  {
   "cell_type": "code",
   "execution_count": 159,
   "metadata": {},
   "outputs": [],
   "source": [
    "# df['CEP_ARRUMADO'] = df['CEP_ARRUMADO'].astype(int) # Não fazer porque retira o zero na frente do CEP, dificultando achar as informações referentes a ele"
   ]
  },
  {
   "cell_type": "markdown",
   "metadata": {},
   "source": [
    "#### Verificando em qual zona de SP está"
   ]
  },
  {
   "cell_type": "code",
   "execution_count": 160,
   "metadata": {},
   "outputs": [
    {
     "name": "stdout",
     "output_type": "stream",
     "text": [
      "0      65062630\n",
      "1      95670000\n",
      "2      08022120\n",
      "3      08390355\n",
      "4      97015070\n",
      "         ...   \n",
      "184    65248000\n",
      "185    60170241\n",
      "186    72220060\n",
      "187    82700350\n",
      "189    72220060\n",
      "Name: Cep, Length: 179, dtype: object\n"
     ]
    }
   ],
   "source": [
    "print(df['Cep'])"
   ]
  },
  {
   "cell_type": "markdown",
   "metadata": {},
   "source": [
    "#### Retornando Estado, Cidade e Bairro referente ao CEP"
   ]
  },
  {
   "cell_type": "code",
   "execution_count": 161,
   "metadata": {},
   "outputs": [],
   "source": [
    "import requests\n",
    "import time\n",
    "\n",
    "sigla_para_estado = {\n",
    "    'AC': 'Acre', 'AL': 'Alagoas', 'AP': 'Amapá', 'AM': 'Amazonas',\n",
    "    'BA': 'Bahia', 'CE': 'Ceará', 'DF': 'Distrito Federal', 'ES': 'Espírito Santo',\n",
    "    'GO': 'Goiás', 'MA': 'Maranhão', 'MT': 'Mato Grosso', 'MS': 'Mato Grosso do Sul',\n",
    "    'MG': 'Minas Gerais', 'PA': 'Pará', 'PB': 'Paraíba', 'PR': 'Paraná',\n",
    "    'PE': 'Pernambuco', 'PI': 'Piauí', 'RJ': 'Rio de Janeiro', 'RN': 'Rio Grande do Norte',\n",
    "    'RS': 'Rio Grande do Sul', 'RO': 'Rondônia', 'RR': 'Roraima', 'SC': 'Santa Catarina',\n",
    "    'SP': 'São Paulo', 'SE': 'Sergipe', 'TO': 'Tocantins'\n",
    "}\n",
    "\n",
    "df['Cidade'] = ''\n",
    "df['Estado'] = ''\n",
    "df['Bairro'] = ''\n",
    "df['É São Paulo?'] = ''\n",
    "df['Zona'] = ''\n",
    "\n",
    "for i, cep in enumerate(df['Cep']):\n",
    "    try:\n",
    "        # response = requests.get(f\"https://viacep.com.br/ws/{cep}/json/\") viacep\n",
    "        response = requests.get(f\"https://cep.awesomeapi.com.br/json/{cep}\") # AwesomeAPI\n",
    "\n",
    "        data = response.json()\n",
    "\n",
    "        if 'erro' not in data:\n",
    "            df.at[i, 'Cidade'] = data.get('city', '')\n",
    "            sigla_uf = data.get('state', '')\n",
    "            df.at[i, 'Estado'] = sigla_para_estado.get(sigla_uf, sigla_uf)\n",
    "\n",
    "            bairro = data.get('district')\n",
    "            df.at[i, 'Bairro'] = bairro if bairro else 'Não informado'\n",
    "        else:\n",
    "            print(f\"CEP inválido: {cep}\")\n",
    "        \n",
    "        time.sleep(0.2)\n",
    "\n",
    "    except Exception as e:\n",
    "        print(f\"Erro no CEP {cep}: {e}\")\n"
   ]
  },
  {
   "cell_type": "markdown",
   "metadata": {},
   "source": [
    "#### Movendo Colunas relevantes para novo excel"
   ]
  },
  {
   "cell_type": "code",
   "execution_count": 162,
   "metadata": {},
   "outputs": [],
   "source": [
    "colunas_desejadas = ['Cep', 'Estado', 'Cidade', 'Bairro', 'É São Paulo?', 'Zona', 'Número de sacos de lixo', 'Litragem dos sacos', 'Peso total dos resíduos', 'Quantidade total de itens coletados']\n",
    "df = df[colunas_desejadas]"
   ]
  },
  {
   "cell_type": "markdown",
   "metadata": {},
   "source": [
    "#### Eliminando CEPs não existentes"
   ]
  },
  {
   "cell_type": "code",
   "execution_count": 163,
   "metadata": {},
   "outputs": [],
   "source": [
    "ceps_remover = ['95670000', '36800000', '12120000', '41603270', '60000000', '74030000']\n",
    "df = df[~df['Cep'].isin(ceps_remover)]"
   ]
  },
  {
   "cell_type": "markdown",
   "metadata": {},
   "source": [
    "#### Gerando Coluna de True ou False para São Paulo"
   ]
  },
  {
   "cell_type": "code",
   "execution_count": 164,
   "metadata": {},
   "outputs": [],
   "source": [
    "df['É São Paulo?'] = df['Cidade'].str.strip().str.lower().apply(lambda x: 'Sim' if x == 'são paulo' else 'Não')"
   ]
  },
  {
   "cell_type": "markdown",
   "metadata": {},
   "source": [
    "#### Arrumando valores nulos e padronizando tipos de dados"
   ]
  },
  {
   "cell_type": "code",
   "execution_count": 165,
   "metadata": {},
   "outputs": [],
   "source": [
    "import pandas as pd\n",
    "import numpy as np\n",
    "import re\n",
    "\n",
    "def extrair_inteiro(valor):\n",
    "    if pd.isna(valor):\n",
    "        return np.nan\n",
    "    valor = str(valor).lower()\n",
    "    if 'não informado' in valor or not re.search(r'\\d+', valor):\n",
    "        return np.nan\n",
    "    numeros = re.findall(r'\\d+', valor)\n",
    "    return int(numeros[0]) if numeros else np.nan\n",
    "\n",
    "def extrair_float(valor):\n",
    "    if pd.isna(valor):\n",
    "        return np.nan\n",
    "    valor = str(valor).lower()\n",
    "    if 'não informado' in valor or not re.search(r'\\d', valor):\n",
    "        return np.nan\n",
    "    return np.nan\n",
    "\n",
    "df['Litragem dos sacos'] = df['Litragem dos sacos'].apply(extrair_inteiro)\n",
    "df['Número de sacos de lixo'] = df['Número de sacos de lixo'].apply(extrair_inteiro)\n",
    "df['Quantidade total de itens coletados'] = df['Quantidade total de itens coletados'].apply(extrair_inteiro)\n",
    "df['Peso total dos resíduos'] = df['Peso total dos resíduos'].apply(extrair_float)\n"
   ]
  },
  {
   "cell_type": "markdown",
   "metadata": {},
   "source": [
    "#### Gerando Coluna para Zona de São Paulo"
   ]
  },
  {
   "cell_type": "code",
   "execution_count": 166,
   "metadata": {},
   "outputs": [],
   "source": [
    "zonas = {\n",
    "    \"Centro\": [\n",
    "        \"Sé\", \"República\", \"Bom Retiro\", \"Barra Funda\",\n",
    "        \"Santa Cecília\", \"Consolação\", \"Bela Vista\",\n",
    "        \"Liberdade\", \"Cambuci\"\n",
    "    ],\n",
    "    \"Zona Norte\": [\n",
    "        \"Santana\", \"Vila Maria\", \"Tucuruvi\", \"Jaçanã\", \"Tremembé\",\n",
    "        \"Mandaqui\", \"Casa Verde\", \"Cachoeirinha\", \"Limão\",\n",
    "        \"Brasilândia\", \"Freguesia do Ó\", \"Pirituba\",\n",
    "        \"São Domingos\", \"Jaraguá\", \"Perus\", \"Horto Florestal\"\n",
    "    ],\n",
    "    \"Zona Leste\": [\n",
    "        \"Belém\", \"Brás\", \"Pari\", \"Mooca\", \"Vila Prudente\", \"Água Rasa\",\n",
    "        \"São Lucas\", \"Sapopemba\", \"Tatuapé\", \"Vila Formosa\", \"Vila Carrão\",\n",
    "        \"Vila Matilde\", \"Artur Alvim\", \"Penha\", \"Cangaiba\", \"Ponte Rasa\",\n",
    "        \"Ermelino Matarazzo\", \"São Mateus\", \"São Miguel\",\n",
    "        \"Itaim Paulista\", \"Itaquera\", \"Guaianazes\", \"Jardim Santo André\", \"Cidade Patriarca\", \"Vila Gomes Cardim\"\n",
    "    ],\n",
    "    \"Zona Sul\": [\n",
    "        \"Vila Mariana\", \"Moema\", \"Saúde\", \"Ipiranga (Vila Monumento)\",\n",
    "        \"Vila Mariana (Jardim da Glória)\", \"Ipiranga\", \"Sacomã\", \"Jabaquara\",\n",
    "        \"Cidade Ademar\", \"Pedreira\", \"Itaim Bibi\", \"Campo Belo\",\n",
    "        \"Santo Amaro\", \"Cidade Dutra\", \"Grajaú\", \"Parelheiros\",\n",
    "        \"Capela do Socorro\", \"Campo Limpo\", \"Capão Redondo\",\"Jardim Celeste\", \"Vila Monte Alegre\", \"Vila Clara\", \"Parque do Lago\", \"Jardim Catanduva\", \"Jardim Figueira Grande\", \"Chácara da Enseada\", \"Cidade Ipava\", \"Vila Santa Lúcia\", \"Morro do Índio\", \"Mirandópolis\"\n",
    "    ],\n",
    "    \"Zona Oeste\": [\n",
    "        \"Jardim Paulista\", \"Lapa\", \"Perdizes\", \"Jaguara\",\n",
    "        \"Vila Leopoldina\", \"Jaguaré\", \"Rio Pequeno\",\n",
    "        \"Pinheiros\", \"Alto de Pinheiros\", \"Butantã\", \"Morumbi\", \"Vila Sônia\", \"Cidade Monções\"\n",
    "    ]\n",
    "}\n",
    "\n",
    "def buscar_zona(row):\n",
    "    cidade = str(row['Cidade']).strip().lower()\n",
    "    bairro = str(row['Bairro']).strip().lower()\n",
    "\n",
    "    if cidade != 'são paulo' or not bairro:\n",
    "        return ''\n",
    "\n",
    "    for nome_zona, bairros in zonas.items():\n",
    "        for b in bairros:\n",
    "            if b.lower() in bairro:\n",
    "                return nome_zona\n",
    "    return 'Desconhecida'\n",
    "\n",
    "df['Zona'] = df.apply(buscar_zona, axis=1)\n"
   ]
  },
  {
   "cell_type": "markdown",
   "metadata": {},
   "source": [
    "#### Gerando Excel"
   ]
  },
  {
   "cell_type": "code",
   "execution_count": 167,
   "metadata": {},
   "outputs": [],
   "source": [
    "df.to_excel('limpaBrasilOrganizado.xlsx', index=False) "
   ]
  },
  {
   "cell_type": "code",
   "execution_count": 168,
   "metadata": {},
   "outputs": [
    {
     "name": "stdout",
     "output_type": "stream",
     "text": [
      "          Cep             Estado       Cidade                   Bairro  \\\n",
      "0    65062630           Maranhão     São Luís                  Angelim   \n",
      "2    08022120          São Paulo    São Paulo               Vila Clara   \n",
      "3    08390355          São Paulo    São Paulo       Jardim Santo André   \n",
      "4    97015070  Rio Grande do Sul  Santa Maria  Nossa Senhora de Fátima   \n",
      "5    04052020          São Paulo    São Paulo             Mirandópolis   \n",
      "..        ...                ...          ...                      ...   \n",
      "156       NaN              Ceará    Fortaleza          Dionisio Torres   \n",
      "165       NaN         Pernambuco  Rio Formoso            Não informado   \n",
      "166       NaN          São Paulo    São Paulo                Liberdade   \n",
      "175       NaN              Ceará    Fortaleza          Dionisio Torres   \n",
      "178       NaN   Distrito Federal     Brasília           Ceilândia Sul    \n",
      "\n",
      "    É São Paulo?        Zona  Número de sacos de lixo  Litragem dos sacos  \\\n",
      "0            Não                                  NaN                 NaN   \n",
      "2            Sim    Zona Sul                      NaN                 NaN   \n",
      "3            Sim  Zona Leste                      NaN                 NaN   \n",
      "4            Não                                 68.0                23.0   \n",
      "5            Sim    Zona Sul                      NaN                 NaN   \n",
      "..           ...         ...                      ...                 ...   \n",
      "156          Não                                  NaN                 NaN   \n",
      "165          Não                                  NaN                 NaN   \n",
      "166          Sim      Centro                      NaN                 NaN   \n",
      "175          Não                                  NaN                 NaN   \n",
      "178          Não                                  NaN                 NaN   \n",
      "\n",
      "     Peso total dos resíduos  Quantidade total de itens coletados  \n",
      "0                        NaN                                  NaN  \n",
      "2                        NaN                                  NaN  \n",
      "3                        NaN                                  NaN  \n",
      "4                        NaN                                245.0  \n",
      "5                        NaN                                  NaN  \n",
      "..                       ...                                  ...  \n",
      "156                      NaN                                  NaN  \n",
      "165                      NaN                                  NaN  \n",
      "166                      NaN                                  NaN  \n",
      "175                      NaN                                  NaN  \n",
      "178                      NaN                                  NaN  \n",
      "\n",
      "[181 rows x 10 columns]\n"
     ]
    }
   ],
   "source": [
    "print(df)"
   ]
  },
  {
   "cell_type": "code",
   "execution_count": 169,
   "metadata": {},
   "outputs": [],
   "source": [
    "# Não foi rodado ainda!"
   ]
  }
 ],
 "metadata": {
  "kernelspec": {
   "display_name": "Python 3",
   "language": "python",
   "name": "python3"
  },
  "language_info": {
   "codemirror_mode": {
    "name": "ipython",
    "version": 3
   },
   "file_extension": ".py",
   "mimetype": "text/x-python",
   "name": "python",
   "nbconvert_exporter": "python",
   "pygments_lexer": "ipython3",
   "version": "3.12.1"
  }
 },
 "nbformat": 4,
 "nbformat_minor": 2
}
