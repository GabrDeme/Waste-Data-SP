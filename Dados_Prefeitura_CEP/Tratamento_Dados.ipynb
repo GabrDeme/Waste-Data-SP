{
 "cells": [
  {
   "cell_type": "code",
   "execution_count": 56,
   "metadata": {},
   "outputs": [
    {
     "name": "stdout",
     "output_type": "stream",
     "text": [
      "  Macrorregião Subprefeitura                   Distritos CEP Início  \\\n",
      "0       Centro            Sé              Sé / República  01000-000   \n",
      "1          NaN           NaN    Bom Retiro / Barra Funda  01100-000   \n",
      "2          NaN           NaN  Santa Cecília / Consolação  01200-000   \n",
      "3          NaN           NaN     Consolação / Bela Vista  01300-000   \n",
      "4          NaN           NaN         Liberdade / Cambuci  01500-000   \n",
      "\n",
      "     CEP Fim Unnamed: 5  Cell:   C6  \n",
      "0  01099-999        NaN    NaN  NaN  \n",
      "1  01199-999        NaN    NaN  NaN  \n",
      "2  01299-999        NaN    NaN  NaN  \n",
      "3  01399-999        NaN    NaN  NaN  \n",
      "4  01599-999        NaN    NaN  NaN  \n"
     ]
    }
   ],
   "source": [
    "import pandas as pd\n",
    "\n",
    "df = pd.read_excel(\"tabela_extraida_prefeitura.xlsx\")\n",
    "print(df.head())"
   ]
  },
  {
   "cell_type": "code",
   "execution_count": 57,
   "metadata": {},
   "outputs": [
    {
     "name": "stdout",
     "output_type": "stream",
     "text": [
      "  Macrorregião Subprefeitura                   Distritos CEP Início    CEP Fim\n",
      "0       Centro            Sé              Sé / República  01000-000  01099-999\n",
      "1          NaN           NaN    Bom Retiro / Barra Funda  01100-000  01199-999\n",
      "2          NaN           NaN  Santa Cecília / Consolação  01200-000  01299-999\n",
      "3          NaN           NaN     Consolação / Bela Vista  01300-000  01399-999\n",
      "4          NaN           NaN         Liberdade / Cambuci  01500-000  01599-999\n"
     ]
    }
   ],
   "source": [
    "df = df.drop(columns=[\"Unnamed: 5\", \"Cell:\", \"C6\"])\n",
    "print(df.head())"
   ]
  },
  {
   "cell_type": "code",
   "execution_count": 58,
   "metadata": {},
   "outputs": [
    {
     "name": "stdout",
     "output_type": "stream",
     "text": [
      "Macrorregião     52\n",
      "Subprefeitura    21\n",
      "Distritos         6\n",
      "CEP Início        5\n",
      "CEP Fim           5\n",
      "dtype: int64\n"
     ]
    }
   ],
   "source": [
    "print(df.isnull().sum())"
   ]
  },
  {
   "cell_type": "code",
   "execution_count": 59,
   "metadata": {},
   "outputs": [
    {
     "name": "stdout",
     "output_type": "stream",
     "text": [
      "  Macrorregião Subprefeitura                   Distritos CEP Início    CEP Fim\n",
      "0       Centro            Sé              Sé / República  01000-000  01099-999\n",
      "1       Centro            Sé    Bom Retiro / Barra Funda  01100-000  01199-999\n",
      "2       Centro            Sé  Santa Cecília / Consolação  01200-000  01299-999\n",
      "3       Centro            Sé     Consolação / Bela Vista  01300-000  01399-999\n",
      "4       Centro            Sé         Liberdade / Cambuci  01500-000  01599-999\n"
     ]
    }
   ],
   "source": [
    "df[\"Macrorregião\"] = df[\"Macrorregião\"].ffill()\n",
    "df[\"Subprefeitura\"] = df[\"Subprefeitura\"].ffill()\n",
    "\n",
    "print(df.head())\n"
   ]
  },
  {
   "cell_type": "code",
   "execution_count": 60,
   "metadata": {},
   "outputs": [
    {
     "name": "stdout",
     "output_type": "stream",
     "text": [
      "  Macrorregião Subprefeitura                   Distritos CEP Início   CEP Fim\n",
      "0       Centro            Sé              Sé / República   01000000  01099999\n",
      "1       Centro            Sé    Bom Retiro / Barra Funda   01100000  01199999\n",
      "2       Centro            Sé  Santa Cecília / Consolação   01200000  01299999\n",
      "3       Centro            Sé     Consolação / Bela Vista   01300000  01399999\n",
      "4       Centro            Sé         Liberdade / Cambuci   01500000  01599999\n"
     ]
    }
   ],
   "source": [
    "def limpar_cep(cep):\n",
    "\n",
    "    if pd.isna(cep):\n",
    "        return None\n",
    "    \n",
    "    cep = str(cep)\n",
    "    cep = cep.replace(\"-\", \"\").strip()\n",
    "\n",
    "    try:\n",
    "        return cep\n",
    "    except:\n",
    "        return None\n",
    "    \n",
    "df[\"CEP Início\"] = df[\"CEP Início\"].apply(limpar_cep)\n",
    "df[\"CEP Fim\"] = df[\"CEP Fim\"].apply(limpar_cep)\n",
    "\n",
    "print(df.head())"
   ]
  },
  {
   "cell_type": "code",
   "execution_count": 61,
   "metadata": {},
   "outputs": [
    {
     "name": "stdout",
     "output_type": "stream",
     "text": [
      "Macrorregião     0\n",
      "Subprefeitura    0\n",
      "Distritos        6\n",
      "CEP Início       5\n",
      "CEP Fim          5\n",
      "dtype: int64\n"
     ]
    }
   ],
   "source": [
    "print(df.isnull().sum())"
   ]
  },
  {
   "cell_type": "code",
   "execution_count": 62,
   "metadata": {},
   "outputs": [],
   "source": [
    "df = df.dropna()"
   ]
  },
  {
   "cell_type": "code",
   "execution_count": 63,
   "metadata": {},
   "outputs": [],
   "source": [
    "df = df.to_excel(\"tabela_tratada_prefeitura.xlsx\", index=False)"
   ]
  }
 ],
 "metadata": {
  "kernelspec": {
   "display_name": "Python 3",
   "language": "python",
   "name": "python3"
  },
  "language_info": {
   "codemirror_mode": {
    "name": "ipython",
    "version": 3
   },
   "file_extension": ".py",
   "mimetype": "text/x-python",
   "name": "python",
   "nbconvert_exporter": "python",
   "pygments_lexer": "ipython3",
   "version": "3.12.1"
  }
 },
 "nbformat": 4,
 "nbformat_minor": 2
}
