{
 "cells": [
  {
   "cell_type": "code",
   "execution_count": 1,
   "id": "3abb5cff",
   "metadata": {},
   "outputs": [
    {
     "name": "stdout",
     "output_type": "stream",
     "text": [
      "  ep_sgsubpr           ep_subpref ep_rec_dif       ep_empresa       ep_lei  \\\n",
      "0         MO                Mooca      Gesso       Sustentare  14.803/2008   \n",
      "1         PI            Pinheiros      Gesso  Ecoss Ambiental  14.803/2008   \n",
      "2         MO                Mooca      Gesso       Sustentare  14.803/2008   \n",
      "3         MP  São Miguel Paulista        NaN           Corpus  14.803/2008   \n",
      "4         PJ     Pirituba-Jaraguá      Gesso  Ecoss Ambiental  14.803/2008   \n",
      "\n",
      "                 ep_rec_tip  ep_loteind  \\\n",
      "0  Recebimento diferenciado           2   \n",
      "1  Recebimento diferenciado           5   \n",
      "2  Recebimento diferenciado           2   \n",
      "3         Recebimento comum           1   \n",
      "4  Recebimento diferenciado           5   \n",
      "\n",
      "                                          ep_rec_com   ep_decreto  \\\n",
      "0  Entulho, volumosos, restos de poda e recicláve...  55.113/2014   \n",
      "1  Entulho, volumosos, restos de poda e recicláve...  55.113/2014   \n",
      "2  Entulho, volumosos, restos de poda e recicláve...  55.113/2014   \n",
      "3  Entulho, volumosos, restos de poda e recicláve...  55.113/2014   \n",
      "4  Entulho, volumosos, restos de poda e recicláve...  55.113/2014   \n",
      "\n",
      "                                          ep_atendim ep_inaugur  \\\n",
      "0  segunda a sábado, das 6h às 22h; domingo e fer... 2003-10-01   \n",
      "1  segunda a sábado, das 6h às 22h; domingo e fer... 2004-07-01   \n",
      "2  segunda a sábado, das 6h às 22h; domingo e fer... 2005-04-01   \n",
      "3  segunda a sábado, das 6h às 22h; domingo e fer... 2006-01-01   \n",
      "4  segunda a sábado, das 6h às 22h; domingo e fer... 2006-04-01   \n",
      "\n",
      "                                          ep_linklei  \\\n",
      "0  http://legislacao.prefeitura.sp.gov.br/leis/le...   \n",
      "1  http://legislacao.prefeitura.sp.gov.br/leis/le...   \n",
      "2  http://legislacao.prefeitura.sp.gov.br/leis/le...   \n",
      "3  http://legislacao.prefeitura.sp.gov.br/leis/le...   \n",
      "4  http://legislacao.prefeitura.sp.gov.br/leis/le...   \n",
      "\n",
      "                                          ep_linkdec  \\\n",
      "0  http://legislacao.prefeitura.sp.gov.br/leis/de...   \n",
      "1  http://legislacao.prefeitura.sp.gov.br/leis/de...   \n",
      "2  http://legislacao.prefeitura.sp.gov.br/leis/de...   \n",
      "3  http://legislacao.prefeitura.sp.gov.br/leis/de...   \n",
      "4  http://legislacao.prefeitura.sp.gov.br/leis/de...   \n",
      "\n",
      "                                          ep_enderec              ep_nome  \\\n",
      "0  Praça Giuseppe Cesari, 54 (Baixos do Viaduto B...              Bresser   \n",
      "1  Praça do Cancioneiro, 15 (Baixos da Ponte Enge...            Pinheiros   \n",
      "2  Avenida Salim Farah Maluf, 179, Praça Tito Lív...              Tatuapé   \n",
      "3  Avenida Ribeirão Jacu, 201 (Baixos do Viaduto ...            Imperador   \n",
      "4                   Avenida Cônego José Salomon, 861  Cônego José Salomon   \n",
      "\n",
      "   ep_distrit                                      geometry  \n",
      "0        Brás  POINT (336018.94502675225 7395405.137079187)  \n",
      "1  Itaim Bibi    POINT (327425.16229987 7389268.7677502455)  \n",
      "2     Tatuapé  POINT (338364.14651142654 7396972.372921058)  \n",
      "3  Vila Jacuí     POINT (351278.585152318 7398833.48083049)  \n",
      "4    Pirituba   POINT (324153.44898416987 7400946.10918378)  \n"
     ]
    }
   ],
   "source": [
    "import pandas as pd\n",
    "import os\n",
    "\n",
    "df = pd.read_excel(\"bDADOS_XLSX/SIRGAS_GPKG_ecoponto_SIRGAS_GPKG_ecoponto.xlsx\")\n",
    "print(df.head())\n"
   ]
  },
  {
   "cell_type": "code",
   "execution_count": 2,
   "id": "47acb14b",
   "metadata": {},
   "outputs": [
    {
     "name": "stdout",
     "output_type": "stream",
     "text": [
      "['ep_sgsubpr', 'ep_subpref', 'ep_rec_dif', 'ep_empresa', 'ep_lei', 'ep_rec_tip', 'ep_loteind', 'ep_rec_com', 'ep_decreto', 'ep_atendim', 'ep_inaugur', 'ep_linklei', 'ep_linkdec', 'ep_enderec', 'ep_nome', 'ep_distrit', 'geometry']\n"
     ]
    }
   ],
   "source": [
    "colunas = df.columns.tolist()\n",
    "print(colunas)"
   ]
  },
  {
   "cell_type": "code",
   "execution_count": 3,
   "id": "24eda01a",
   "metadata": {},
   "outputs": [
    {
     "name": "stdout",
     "output_type": "stream",
     "text": [
      "    ep_sgsubpr           ep_subpref ep_rec_dif       ep_empresa  \\\n",
      "0           MO                Mooca      Gesso       Sustentare   \n",
      "1           PI            Pinheiros      Gesso  Ecoss Ambiental   \n",
      "2           MO                Mooca      Gesso       Sustentare   \n",
      "3           MP  São Miguel Paulista        NaN           Corpus   \n",
      "4           PJ     Pirituba-Jaraguá      Gesso  Ecoss Ambiental   \n",
      "..         ...                  ...        ...              ...   \n",
      "123         MP  São Miguel Paulista        NaN           Corpus   \n",
      "124         MP  São Miguel Paulista      Gesso           Corpus   \n",
      "125         SB            Sapopemba        NaN           Corpus   \n",
      "126         SE                   Sé      Gesso       Sustentare   \n",
      "127         VM         Vila Mariana      Gesso         Locat SP   \n",
      "\n",
      "                   ep_rec_tip  \\\n",
      "0    Recebimento diferenciado   \n",
      "1    Recebimento diferenciado   \n",
      "2    Recebimento diferenciado   \n",
      "3           Recebimento comum   \n",
      "4    Recebimento diferenciado   \n",
      "..                        ...   \n",
      "123         Recebimento comum   \n",
      "124  Recebimento diferenciado   \n",
      "125         Recebimento comum   \n",
      "126  Recebimento diferenciado   \n",
      "127  Recebimento diferenciado   \n",
      "\n",
      "                                            ep_enderec              ep_nome  \\\n",
      "0    Praça Giuseppe Cesari, 54 (Baixos do Viaduto B...              Bresser   \n",
      "1    Praça do Cancioneiro, 15 (Baixos da Ponte Enge...            Pinheiros   \n",
      "2    Avenida Salim Farah Maluf, 179, Praça Tito Lív...              Tatuapé   \n",
      "3    Avenida Ribeirão Jacu, 201 (Baixos do Viaduto ...            Imperador   \n",
      "4                     Avenida Cônego José Salomon, 861  Cônego José Salomon   \n",
      "..                                                 ...                  ...   \n",
      "123                     Rua Duarte Martins Mourão, 400        Jardim Romano   \n",
      "124                   Rua Rafael Zimbardi, 78 (altura)        Jardim Lapena   \n",
      "125                             Rua Luca Conforti, 210       Joaquim Catuna   \n",
      "126                          Rua Quatorze de Julho, 59           Bela Vista   \n",
      "127  Avenida Rubem Berta, 1100 (baixo do Viaduto On...          Rubem Berta   \n",
      "\n",
      "        ep_distrit  \n",
      "0             Brás  \n",
      "1       Itaim Bibi  \n",
      "2          Tatuapé  \n",
      "3       Vila Jacuí  \n",
      "4         Pirituba  \n",
      "..             ...  \n",
      "123  Jardim Helena  \n",
      "124     São Miguel  \n",
      "125      Sapopemba  \n",
      "126      República  \n",
      "127          Moema  \n",
      "\n",
      "[128 rows x 8 columns]\n"
     ]
    }
   ],
   "source": [
    "# Remoção das colunas desnecessárias para análise\n",
    "df = df.drop([\"ep_lei\", \"ep_loteind\", \"ep_rec_com\",\n",
    "              \"ep_decreto\",\"ep_atendim\", \"ep_inaugur\", \"ep_linklei\", \"ep_linkdec\", \"geometry\"], \n",
    "              axis=1)\n",
    "\n",
    "print(df)"
   ]
  },
  {
   "cell_type": "code",
   "execution_count": 4,
   "id": "134f7d10",
   "metadata": {},
   "outputs": [],
   "source": [
    "# Criação manual de uma lista para inclusão das regiões\n",
    "\n",
    "regioes_sp = {\n",
    "    \"Mooca\": \"Zona Leste\",\n",
    "    \"Pinheiros\": \"Zona Oeste\",\n",
    "    \"São Miguel Paulista\": \"Zona Leste\",\n",
    "    \"Pirituba-Jaraguá\": \"Zona Noroeste\",\n",
    "    \"Aricanduva\": \"Zona Leste\",\n",
    "    \"Penha\": \"Zona Leste\",\n",
    "    \"Vila Mariana\": \"Zona Sul\",\n",
    "    \"Freguesia-Brasilândia\": \"Zona Norte\",\n",
    "    \"Perus-Anhanguera\": \"Zona Noroeste\",\n",
    "    \"Campo Limpo\": \"Zona Sul\",\n",
    "    \"Vila Maria-Vila Guilherme\": \"Zona Norte\",\n",
    "    \"Butantã\": \"Zona Oeste\",\n",
    "    \"Ermelino Matarazzo\": \"Zona Leste\",\n",
    "    \"Itaim Paulista\": \"Zona Leste\",\n",
    "    \"Cidade Tiradentes\": \"Zona Leste\",\n",
    "    \"Santo Amaro\": \"Zona Sul\",\n",
    "    \"São Mateus\": \"Zona Leste\",\n",
    "    \"Vila Prudente\": \"Zona Leste\",\n",
    "    \"Ipiranga\": \"Zona Sudeste\",\n",
    "    \"Sapopemba\": \"Zona Leste\",\n",
    "    \"Casa Verde\": \"Zona Norte\",\n",
    "    \"Itaquera\": \"Zona Leste\",\n",
    "    \"Sé\": \"Centro\",\n",
    "    \"Cidade Ademar\": \"Zona Sul\",\n",
    "    \"Jabaquara\": \"Zona Sul\",\n",
    "    \"Capela Do Socorro\": \"Zona Sul\",\n",
    "    \"Santana-Tucuruvi\": \"Zona Norte\",\n",
    "    \"Guaianases\": \"Zona Leste\",\n",
    "    \"M'Boi Mirim\": \"Zona Sul\",\n",
    "    \"Jaçanã-Tremembé\": \"Zona Norte\",\n",
    "    \"Lapa\": \"Zona Oeste\"\n",
    "}\n",
    "\n",
    "df[\"região\"] = df[\"ep_subpref\"].map(regioes_sp)"
   ]
  },
  {
   "cell_type": "code",
   "execution_count": 5,
   "id": "1ad4b1fc",
   "metadata": {},
   "outputs": [
    {
     "name": "stdout",
     "output_type": "stream",
     "text": [
      "Arquivo salvo com sucesso em: bDADOS_TRATADOS\\ECOPONTO.xlsx\n"
     ]
    }
   ],
   "source": [
    "# Caminho da subpasta\n",
    "subpasta = \"bDADOS_TRATADOS\"\n",
    "os.makedirs(subpasta, exist_ok=True)\n",
    "\n",
    "# Caminho completo do arquivo\n",
    "caminho_arquivo = os.path.join(subpasta, \"ECOPONTO.xlsx\")\n",
    "\n",
    "# Salvando como Excel\n",
    "df.to_excel(caminho_arquivo, index=False)\n",
    "\n",
    "print(f\"Arquivo salvo com sucesso em: {caminho_arquivo}\")"
   ]
  },
  {
   "cell_type": "markdown",
   "id": "249e77c9",
   "metadata": {},
   "source": []
  }
 ],
 "metadata": {
  "kernelspec": {
   "display_name": "Python 3",
   "language": "python",
   "name": "python3"
  },
  "language_info": {
   "codemirror_mode": {
    "name": "ipython",
    "version": 3
   },
   "file_extension": ".py",
   "mimetype": "text/x-python",
   "name": "python",
   "nbconvert_exporter": "python",
   "pygments_lexer": "ipython3",
   "version": "3.12.1"
  }
 },
 "nbformat": 4,
 "nbformat_minor": 5
}
