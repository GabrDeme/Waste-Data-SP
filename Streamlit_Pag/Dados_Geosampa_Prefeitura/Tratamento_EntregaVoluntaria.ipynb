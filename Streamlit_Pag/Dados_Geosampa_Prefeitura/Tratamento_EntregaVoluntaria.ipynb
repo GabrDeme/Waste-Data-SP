{
 "cells": [
  {
   "cell_type": "code",
   "execution_count": 1,
   "id": "125398d7",
   "metadata": {},
   "outputs": [
    {
     "name": "stdout",
     "output_type": "stream",
     "text": [
      "   pev_quanti                            pev_nome  \\\n",
      "0           2  44º Distrito Policial - Guaianases   \n",
      "1           2                          CDC Araújo   \n",
      "2           1            CDC Areão de Vila Cisper   \n",
      "3           1                 CDC Benedicto Ramos   \n",
      "4           3                    CDC Cidade Líder   \n",
      "\n",
      "                                    pev_endere          pev_subprf  \\\n",
      "0                   Rua Salvador Gianetti, 386          Guaianases   \n",
      "1                 Rua Bernardino Prudenti, 192            Itaquera   \n",
      "2                      Rua Barra de Santa Rosa  Ermelino Matarazzo   \n",
      "3  Rua Doutor Venâncio de Oliveira Lisboa, 242  Ermelino Matarazzo   \n",
      "4                  Rua Casemiro Misskiniz, 157            Itaquera   \n",
      "\n",
      "                                       geometry  \n",
      "0  POINT (355183.67444959574 7395705.884527344)  \n",
      "1   POINT (353597.6172818238 7394230.856937843)  \n",
      "2   POINT (347320.5981144656 7401233.332933184)  \n",
      "3   POINT (348544.0193507817 7400760.731227536)  \n",
      "4  POINT (349394.86225392023 7394300.047225997)  \n"
     ]
    }
   ],
   "source": [
    "import pandas as pd\n",
    "import os\n",
    "\n",
    "df = pd.read_excel(\"bDADOS_XLSX/SIRGAS_GPKG_pontoentregavoluntaria_SIRGAS_GPKG_pontoentregavoluntaria.xlsx\")\n",
    "print(df.head())"
   ]
  },
  {
   "cell_type": "code",
   "execution_count": 2,
   "id": "c50e2e26",
   "metadata": {},
   "outputs": [
    {
     "name": "stdout",
     "output_type": "stream",
     "text": [
      "['pev_quanti', 'pev_nome', 'pev_endere', 'pev_subprf', 'geometry']\n"
     ]
    }
   ],
   "source": [
    "colunas = df.columns.tolist()\n",
    "print(colunas)"
   ]
  },
  {
   "cell_type": "code",
   "execution_count": 3,
   "id": "41e455f5",
   "metadata": {},
   "outputs": [
    {
     "name": "stdout",
     "output_type": "stream",
     "text": [
      "     pev_quanti                              pev_nome  \\\n",
      "0             2    44º Distrito Policial - Guaianases   \n",
      "1             2                            CDC Araújo   \n",
      "2             1              CDC Areão de Vila Cisper   \n",
      "3             1                   CDC Benedicto Ramos   \n",
      "4             3                      CDC Cidade Líder   \n",
      "..          ...                                   ...   \n",
      "502           1             Subprefeitura Santo Amaro   \n",
      "503           1             UBS Chácara Santo Antônio   \n",
      "504           1                       UBS Novo Jardim   \n",
      "505           1                      Vida Nova Escola   \n",
      "506           1  Viveiro Capela do Socorro (P.M.S.P.)   \n",
      "\n",
      "                                      pev_endere          pev_subprf  \n",
      "0                     Rua Salvador Gianetti, 386          Guaianases  \n",
      "1                   Rua Bernardino Prudenti, 192            Itaquera  \n",
      "2                        Rua Barra de Santa Rosa  Ermelino Matarazzo  \n",
      "3    Rua Doutor Venâncio de Oliveira Lisboa, 242  Ermelino Matarazzo  \n",
      "4                    Rua Casemiro Misskiniz, 157            Itaquera  \n",
      "..                                           ...                 ...  \n",
      "502                   Praça Floriano Peixoto, 54         Santo Amaro  \n",
      "503                     Rua Alexandre Dumas, 719         Santo Amaro  \n",
      "504                   Rua Philippe de Vitry, 282         M'Boi Mirim  \n",
      "505         Rua Terezinha do Prado Oliveira, 382         Parelheiros  \n",
      "506      Avenida Frederico René de Jaegher, 2669   Capela Do Socorro  \n",
      "\n",
      "[507 rows x 4 columns]\n"
     ]
    }
   ],
   "source": [
    "# Remoção das colunas desnecessárias para análise\n",
    "df = df.drop([\"geometry\"], \n",
    "              axis=1)\n",
    "\n",
    "print(df)"
   ]
  },
  {
   "cell_type": "code",
   "execution_count": 4,
   "id": "ebfc783b",
   "metadata": {},
   "outputs": [],
   "source": [
    "# Criação manual de uma lista para inclusão das regiões\n",
    "\n",
    "regioes_sp = {\n",
    "    \"Mooca\": \"Zona Leste\",\n",
    "    \"Pinheiros\": \"Zona Oeste\",\n",
    "    \"São Miguel Paulista\": \"Zona Leste\",\n",
    "    \"Pirituba-Jaraguá\": \"Zona Noroeste\",\n",
    "    \"Aricanduva\": \"Zona Leste\",\n",
    "    \"Penha\": \"Zona Leste\",\n",
    "    \"Vila Mariana\": \"Zona Sul\",\n",
    "    \"Freguesia-Brasilândia\": \"Zona Norte\",\n",
    "    \"Perus-Anhanguera\": \"Zona Noroeste\",\n",
    "    \"Campo Limpo\": \"Zona Sul\",\n",
    "    \"Vila Maria-Vila Guilherme\": \"Zona Norte\",\n",
    "    \"Butantã\": \"Zona Oeste\",\n",
    "    \"Ermelino Matarazzo\": \"Zona Leste\",\n",
    "    \"Itaim Paulista\": \"Zona Leste\",\n",
    "    \"Cidade Tiradentes\": \"Zona Leste\",\n",
    "    \"Santo Amaro\": \"Zona Sul\",\n",
    "    \"São Mateus\": \"Zona Leste\",\n",
    "    \"Vila Prudente\": \"Zona Leste\",\n",
    "    \"Ipiranga\": \"Zona Sudeste\",\n",
    "    \"Sapopemba\": \"Zona Leste\",\n",
    "    \"Casa Verde\": \"Zona Norte\",\n",
    "    \"Itaquera\": \"Zona Leste\",\n",
    "    \"Sé\": \"Centro\",\n",
    "    \"Cidade Ademar\": \"Zona Sul\",\n",
    "    \"Jabaquara\": \"Zona Sul\",\n",
    "    \"Capela Do Socorro\": \"Zona Sul\",\n",
    "    \"Santana-Tucuruvi\": \"Zona Norte\",\n",
    "    \"Guaianases\": \"Zona Leste\",\n",
    "    \"M'Boi Mirim\": \"Zona Sul\",\n",
    "    \"Jaçanã-Tremembé\": \"Zona Norte\",\n",
    "    \"Parelheiros\": \"Zona Sul\",\n",
    "    \"Lapa\": \"Zona Oeste\"\n",
    "}\n",
    "\n",
    "df[\"região\"] = df[\"pev_subprf\"].map(regioes_sp)"
   ]
  },
  {
   "cell_type": "code",
   "execution_count": 5,
   "id": "d9c8057b",
   "metadata": {},
   "outputs": [
    {
     "name": "stdout",
     "output_type": "stream",
     "text": [
      "Arquivo salvo com sucesso em: bDADOS_TRATADOS\\PONTO DE ENTREGA VOLUNTARIA.xlsx\n"
     ]
    }
   ],
   "source": [
    "# Caminho da subpasta\n",
    "subpasta = \"bDADOS_TRATADOS\"\n",
    "os.makedirs(subpasta, exist_ok=True)\n",
    "\n",
    "# Caminho completo do arquivo\n",
    "caminho_arquivo = os.path.join(subpasta, \"PONTO DE ENTREGA VOLUNTARIA.xlsx\")\n",
    "\n",
    "# Salvando como Excel\n",
    "df.to_excel(caminho_arquivo, index=False)\n",
    "\n",
    "print(f\"Arquivo salvo com sucesso em: {caminho_arquivo}\")"
   ]
  }
 ],
 "metadata": {
  "kernelspec": {
   "display_name": "Python 3",
   "language": "python",
   "name": "python3"
  },
  "language_info": {
   "codemirror_mode": {
    "name": "ipython",
    "version": 3
   },
   "file_extension": ".py",
   "mimetype": "text/x-python",
   "name": "python",
   "nbconvert_exporter": "python",
   "pygments_lexer": "ipython3",
   "version": "3.12.1"
  }
 },
 "nbformat": 4,
 "nbformat_minor": 5
}
